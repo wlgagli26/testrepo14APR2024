{
  "metadata": {
    "kernelspec": {
      "name": "python",
      "display_name": "Python (Pyodide)",
      "language": "python"
    },
    "language_info": {
      "codemirror_mode": {
        "name": "python",
        "version": 3
      },
      "file_extension": ".py",
      "mimetype": "text/x-python",
      "name": "python",
      "nbconvert_exporter": "python",
      "pygments_lexer": "ipython3",
      "version": "3.8"
    }
  },
  "nbformat_minor": 4,
  "nbformat": 4,
  "cells": [
    {
      "cell_type": "markdown",
      "source": "This is a test notebook to try Jupyter for the first time",
      "metadata": {}
    },
    {
      "cell_type": "code",
      "source": "print (\"Hello everyone! Please go to bed.\") \n\nfavefruit1 = \"grapes\"\nfavefruit2 = \"kiwis\"\nfavefruit3 = \"mangoes\"\nConnorsfaves = favefruit1 + \" and \" + favefruit3\nMamasfaves = favefruit2 + \" and \" + favefruit3",
      "metadata": {
        "trusted": true
      },
      "outputs": [
        {
          "name": "stdout",
          "text": "Hello everyone! Please go to bed.\n",
          "output_type": "stream"
        }
      ],
      "execution_count": 1
    },
    {
      "cell_type": "code",
      "source": "print (Connorsfaves)",
      "metadata": {
        "trusted": true
      },
      "outputs": [
        {
          "name": "stdout",
          "text": "grapes and mangoes\n",
          "output_type": "stream"
        }
      ],
      "execution_count": 7
    },
    {
      "cell_type": "code",
      "source": "print (Mamasfaves)",
      "metadata": {
        "trusted": true
      },
      "outputs": [
        {
          "name": "stdout",
          "text": "kiwis and mangoes\n",
          "output_type": "stream"
        }
      ],
      "execution_count": 8
    },
    {
      "cell_type": "code",
      "source": "2+5+7",
      "metadata": {
        "trusted": true
      },
      "outputs": [
        {
          "execution_count": 9,
          "output_type": "execute_result",
          "data": {
            "text/plain": "14"
          },
          "metadata": {}
        }
      ],
      "execution_count": 9
    },
    {
      "cell_type": "code",
      "source": "# Now try to multiply some numbers\n\n5*7",
      "metadata": {
        "trusted": true
      },
      "outputs": [
        {
          "execution_count": 10,
          "output_type": "execute_result",
          "data": {
            "text/plain": "35"
          },
          "metadata": {}
        }
      ],
      "execution_count": 10
    },
    {
      "cell_type": "markdown",
      "source": "My First (technically second) Markdown!",
      "metadata": {}
    },
    {
      "cell_type": "markdown",
      "source": "# Evaluating Basic Arithmetic Expression **bold**",
      "metadata": {}
    },
    {
      "cell_type": "markdown",
      "source": "**# Evaluating Basic Arithmetic Expression**",
      "metadata": {}
    },
    {
      "cell_type": "markdown",
      "source": "# **Evaluating Basic Arithmetic Expression**",
      "metadata": {}
    },
    {
      "cell_type": "markdown",
      "source": "! [Cute Rabbit] (https://www.dispatch.com/gcdn/presto/2022/07/26/NCOD/7505d72e-204d-4824-a234-81d499f9c68b-A_young_eastern_cottontail_in_the_writers_Worthington_backyard._Jim_McCormac.jpg)",
      "metadata": {}
    },
    {
      "cell_type": "markdown",
      "source": "![Cute Rabbit](https://www.dispatch.com/gcdn/presto/2022/07/26/NCOD/7505d72e-204d-4824-a234-81d499f9c68b-A_young_eastern_cottontail_in_the_writers_Worthington_backyard._Jim_McCormac.jpg \"Blah\")",
      "metadata": {}
    },
    {
      "cell_type": "markdown",
      "source": "![Cute Rabbit](https://www.dispatch.com/gcdn/presto/2022/07/26/NCOD/7505d72e-204d-4824-a234-81d499f9c68b-A_young_eastern_cottontail_in_the_writers_Worthington_backyard._Jim_McCormac.jpg \"Hi Rabbit\")",
      "metadata": {}
    },
    {
      "cell_type": "markdown",
      "source": "# **Evaluating Basic Arithmetic Expression**",
      "metadata": {}
    },
    {
      "cell_type": "code",
      "source": "(20+5)*4",
      "metadata": {
        "trusted": true
      },
      "outputs": [
        {
          "execution_count": 11,
          "output_type": "execute_result",
          "data": {
            "text/plain": "100"
          },
          "metadata": {}
        }
      ],
      "execution_count": 11
    },
    {
      "cell_type": "code",
      "source": "## Displaying a string message\n\n\"Let us explore Python without coding\"",
      "metadata": {
        "trusted": true
      },
      "outputs": [
        {
          "execution_count": 13,
          "output_type": "execute_result",
          "data": {
            "text/plain": "'Let us explore Python without coding'"
          },
          "metadata": {}
        }
      ],
      "execution_count": 13
    },
    {
      "cell_type": "code",
      "source": "## Split this code cell by clicking after 1+1\n1+1",
      "metadata": {
        "trusted": true
      },
      "outputs": [
        {
          "execution_count": 15,
          "output_type": "execute_result",
          "data": {
            "text/plain": "2"
          },
          "metadata": {}
        }
      ],
      "execution_count": 15
    },
    {
      "cell_type": "code",
      "source": "2*2",
      "metadata": {
        "trusted": true
      },
      "outputs": [
        {
          "execution_count": 16,
          "output_type": "execute_result",
          "data": {
            "text/plain": "4"
          },
          "metadata": {}
        }
      ],
      "execution_count": 16
    },
    {
      "cell_type": "markdown",
      "source": "![Bad Bunny](https://www.dispatch.com/gcdn/presto/2022/07/26/NCOD/7505d72e-204d-4824-a234-81d499f9c68b-A_young_eastern_cottontail_in_the_writers_Worthington_backyard._Jim_McCormac.jpg \"BAMF\")",
      "metadata": {}
    },
    {
      "cell_type": "markdown",
      "source": "# Execute it as a markdown cell\n# H1: This is a level 1 Heading\n## H2: This is a level 2 Heading\n### H3: This is a level 3 Heading\n#### H4: This is a level 4 Heading\n##### H5: This is a level 5 Heading\n###### H6: This is a level 6 Heading",
      "metadata": {}
    },
    {
      "cell_type": "markdown",
      "source": "**This is bold using two asterisks**",
      "metadata": {}
    },
    {
      "cell_type": "markdown",
      "source": "__This is bold using two underscores__",
      "metadata": {}
    },
    {
      "cell_type": "markdown",
      "source": "*This is italics using one asterisk*",
      "metadata": {}
    },
    {
      "cell_type": "markdown",
      "source": "_This is italics using one underscore_",
      "metadata": {}
    },
    {
      "cell_type": "markdown",
      "source": "***This is bold and italics using three asterisks***",
      "metadata": {}
    },
    {
      "cell_type": "markdown",
      "source": "___This is bold and italics using three underscores___",
      "metadata": {}
    },
    {
      "cell_type": "markdown",
      "source": "[Bad Bunny](https://www.dispatch.com/gcdn/presto/2022/07/26/NCOD/7505d72e-204d-4824-a234-81d499f9c68b-A_young_eastern_cottontail_in_the_writers_Worthington_backyard._Jim_McCormac.jpg)",
      "metadata": {}
    },
    {
      "cell_type": "markdown",
      "source": "![](https://www.dispatch.com/gcdn/presto/2022/07/26/NCOD/7505d72e-204d-4824-a234-81d499f9c68b-A_young_eastern_cottontail_in_the_writers_Worthington_backyard._Jim_McCormac.jpg \"Bad Bunny\")",
      "metadata": {}
    },
    {
      "cell_type": "markdown",
      "source": "LOGO: ![This is the skills network logo](https://cf-courses-data.s3.us.cloud-object-storage.appdomain.cloud/assets/logos/SN_web_lightmode.png)",
      "metadata": {}
    },
    {
      "cell_type": "markdown",
      "source": "LOGO: ![This is the skills network logo](https://cf-courses-data.s3.us.cloud-object-storage.appdomain.cloud/assets/logos/SN_web_lightmode.png \"This is the Skills Network Logo\")",
      "metadata": {}
    },
    {
      "cell_type": "markdown",
      "source": "| Student Name | Grade |\n| ------------ | ----- |\n| Seymore Butz | A+ |\n| Eileen Left | F |\n| Mary Goround | B- |",
      "metadata": {}
    },
    {
      "cell_type": "markdown",
      "source": "- first hyphen\n- second hyphen\n- third hyphen\n- fourth hyphen\n\n* first asterisk\n* second asterisk\n* third asterisk\n* fourth asterisk\n\n+ first plus\n+ second plus\n+ third plus\n+ fourth plus",
      "metadata": {}
    },
    {
      "cell_type": "markdown",
      "source": "1. Wash your hands\n2. Dry your hands\n3. Prep the food",
      "metadata": {}
    },
    {
      "cell_type": "markdown",
      "source": "1. ***Wash*** your hands\n2. **Dry** your hands\n3. *Prep* the food",
      "metadata": {}
    },
    {
      "cell_type": "markdown",
      "source": "## Welcome to Python Programming\n![This is SN Labs New Launcher](https://cf-courses-data.s3.us.cloud-object-storage.appdomain.cloud/IBMDeveloperSkillsNetwork-DS0105EN-SkillsNetwork/labs/Labs_V4/images/Launcher.png)",
      "metadata": {}
    },
    {
      "cell_type": "markdown",
      "source": "[Tools for Data Science](https://www.coursera.org/learn/open-source-tools-for-data-science/home)",
      "metadata": {}
    },
    {
      "cell_type": "markdown",
      "source": "| **Fruits** | **Quantity(Kg)** | **Price(in Rupee)** |\n| -------     |       -----     | ------- |\n| Apple | 2 | 500 |\n| Orange | 1 | 200 |\n| Mango | 3 | 1000 |\n| Grapes | 2 | 400 |",
      "metadata": {}
    },
    {
      "cell_type": "markdown",
      "source": "1. Python\n2. Java\n3. C++\n4. C",
      "metadata": {}
    },
    {
      "cell_type": "code",
      "source": "2*2",
      "metadata": {
        "trusted": true
      },
      "outputs": [],
      "execution_count": null
    },
    {
      "cell_type": "code",
      "source": "",
      "metadata": {
        "trusted": true
      },
      "outputs": [],
      "execution_count": null
    },
    {
      "cell_type": "code",
      "source": "",
      "metadata": {
        "trusted": true
      },
      "outputs": [],
      "execution_count": null
    }
  ]
}